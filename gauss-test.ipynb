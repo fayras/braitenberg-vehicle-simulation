{
 "cells": [
  {
   "cell_type": "code",
   "execution_count": 1,
   "metadata": {},
   "outputs": [
    {
     "data": {
      "text/plain": [
       "<Figure size 1200x1200 with 5 Axes>"
      ]
     },
     "metadata": {},
     "output_type": "display_data"
    }
   ],
   "source": [
    "import matplotlib\n",
    "import numpy as np\n",
    "import matplotlib.pyplot as plt\n",
    "\n",
    "matplotlib.rc('image', cmap='jet')\n",
    "matplotlib.rcParams['figure.facecolor'] = 'white'\n",
    "\n",
    "def gaussian(X, Y, sigmax=1.0, sigmay=1.0, mux=0.0, muy=0.0):\n",
    "    Xmu = X-mux\n",
    "    Ymu = Y-muy\n",
    "\n",
    "    exponent = -(Xmu ** 2 / (2 * sigmax ** 2) + Ymu ** 2 / (2 * sigmay ** 2))\n",
    "    return np.exp(exponent)\n",
    "\n",
    "delta = 0.025\n",
    "rangeX = 3.0\n",
    "rangeY = 2\n",
    "x = np.arange(-rangeX, rangeX, delta)\n",
    "y = np.arange(-rangeY, rangeY, delta)\n",
    "X, Y = np.meshgrid(x, y)\n",
    "Z1 = gaussian(X, Y, 1.0, 1.0, 0.0, 0.0)\n",
    "Z2 = gaussian(X, Y, 6.5, 0.3, 0, 0)\n",
    "Z3 = gaussian(X, Y, 1.0, 0.3, 0, 0)\n",
    "\n",
    "Z_add = (Z2 + Z1)\n",
    "Z_mul = (Z2 * Z1)\n",
    "\n",
    "plotsX = 2\n",
    "plotsY = 3\n",
    "plt.figure(figsize=(rangeX * plotsX * 2, rangeY * plotsY * 2))\n",
    "\n",
    "\n",
    "index = 1\n",
    "def plot(Z, label):\n",
    "    global index\n",
    "    plt.subplot(plotsY, plotsX, index)\n",
    "    CS = plt.contour(X, Y, Z)\n",
    "    plt.clabel(CS, inline=1, fontsize=10)\n",
    "    plt.title(label)\n",
    "    index += 1\n",
    "\n",
    "plot(Z1, 'Gauss 1')\n",
    "plot(Z2, 'Gauss 2')\n",
    "plot(Z_add, 'Additiv')\n",
    "plot(Z_mul, 'Multiplikativ')\n",
    "plot(Z3, 'Gauss 3')\n",
    "\n",
    "plt.show()\n"
   ]
  }
 ],
 "metadata": {
  "kernelspec": {
   "display_name": "Python 3",
   "language": "python",
   "name": "python3"
  },
  "language_info": {
   "codemirror_mode": {
    "name": "ipython",
    "version": 3
   },
   "file_extension": ".py",
   "mimetype": "text/x-python",
   "name": "python",
   "nbconvert_exporter": "python",
   "pygments_lexer": "ipython3",
   "version": "3.7.1"
  }
 },
 "nbformat": 4,
 "nbformat_minor": 2
}
